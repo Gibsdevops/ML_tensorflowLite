{
  "nbformat": 4,
  "nbformat_minor": 0,
  "metadata": {
    "colab": {
      "provenance": [],
      "gpuType": "T4",
      "authorship_tag": "ABX9TyOX6LJ+l4z7okbnT+VdJI+7",
      "include_colab_link": true
    },
    "kernelspec": {
      "name": "python3",
      "display_name": "Python 3"
    },
    "language_info": {
      "name": "python"
    },
    "accelerator": "GPU"
  },
  "cells": [
    {
      "cell_type": "markdown",
      "metadata": {
        "id": "view-in-github",
        "colab_type": "text"
      },
      "source": [
        "<a href=\"https://colab.research.google.com/github/Gibsdevops/ML_tensorflowLite/blob/main/tflite_transfer_learning.ipynb\" target=\"_parent\"><img src=\"https://colab.research.google.com/assets/colab-badge.svg\" alt=\"Open In Colab\"/></a>"
      ]
    },
    {
      "cell_type": "code",
      "execution_count": null,
      "metadata": {
        "id": "_7TRa6L4syMn"
      },
      "outputs": [],
      "source": [
        "!pip install tensorflow==2.15.0 tensorflow-hub keras==2.15.0\n",
        ""
      ]
    },
    {
      "cell_type": "code",
      "source": [
        "import os\n",
        "import tensorflow as tf\n",
        "import tensorflow_hub as hub\n",
        "\n",
        "import numpy as np\n",
        "import matplotlib.pyplot as plt"
      ],
      "metadata": {
        "id": "gFSBNWxSz0KH"
      },
      "execution_count": 1,
      "outputs": []
    },
    {
      "cell_type": "code",
      "source": [
        "tf.__version__"
      ],
      "metadata": {
        "colab": {
          "base_uri": "https://localhost:8080/",
          "height": 35
        },
        "id": "rHDWyZuz0i80",
        "outputId": "59f84a03-c0e7-4d4d-f5be-24cbd44b2c79"
      },
      "execution_count": 2,
      "outputs": [
        {
          "output_type": "execute_result",
          "data": {
            "text/plain": [
              "'2.15.0'"
            ],
            "application/vnd.google.colaboratory.intrinsic+json": {
              "type": "string"
            }
          },
          "metadata": {},
          "execution_count": 2
        }
      ]
    },
    {
      "cell_type": "code",
      "source": [
        "module_selection = (\"mobilenet_v2\", 224, 1280) #@param [\"(\\\"mobilenet_v2\\\", 224, 1280)\", \"(\\\"inception_v3\\\", 299, 2048)\"] {type:\"raw\", allow-input: true}\n",
        "handle_base, pixels, FV_SIZE = module_selection\n",
        "MODULE_HANDLE =\"https://tfhub.dev/google/tf2-preview/{}/feature_vector/4\".format(handle_base)\n",
        "IMAGE_SIZE = (pixels, pixels)\n",
        "print(\"Using {} with input size {} and output dimension {}\".format(\n",
        "  MODULE_HANDLE, IMAGE_SIZE, FV_SIZE))"
      ],
      "metadata": {
        "colab": {
          "base_uri": "https://localhost:8080/"
        },
        "id": "EP7d1LTz0mIk",
        "outputId": "48dbafb2-0338-45dc-e1e5-aea9d9168061"
      },
      "execution_count": 3,
      "outputs": [
        {
          "output_type": "stream",
          "name": "stdout",
          "text": [
            "Using https://tfhub.dev/google/tf2-preview/mobilenet_v2/feature_vector/4 with input size (224, 224) and output dimension 1280\n"
          ]
        }
      ]
    },
    {
      "cell_type": "markdown",
      "source": [
        "Data preprocessing\n",
        "Use TensorFlow Datasets to load the cats and dogs dataset.\n",
        "\n",
        "This tfds package is the easiest way to load pre-defined data. If you have your own data, and are interested in importing using it with TensorFlow see loading image data"
      ],
      "metadata": {
        "id": "cc3tPJKB1O-U"
      }
    },
    {
      "cell_type": "code",
      "source": [
        "import tensorflow_datasets as tfds\n",
        "tfds.disable_progress_bar()"
      ],
      "metadata": {
        "id": "lu2z6zXY1LrB"
      },
      "execution_count": 4,
      "outputs": []
    },
    {
      "cell_type": "markdown",
      "source": [
        "The tfds.load method downloads and caches the data, and returns a tf.data.Dataset object. These objects provide powerful, efficient methods for manipulating data and piping it into your model.\n",
        "\n",
        "Since \"cats_vs_dogs\" doesn't define standard splits, use the subsplit feature to divide it into (train, validation, test) with 80%, 10%, 10% of the data respectively."
      ],
      "metadata": {
        "id": "OQs8Knjr2Xs5"
      }
    },
    {
      "cell_type": "code",
      "source": [
        "(train_examples, validation_examples, test_examples), info = tfds.load(\n",
        "    'cats_vs_dogs',\n",
        "    split=['train[80%:]', 'train[80%:90%]', 'train[90%:]'],\n",
        "    with_info=True,\n",
        "    as_supervised=True,\n",
        ")\n",
        "\n",
        "num_examples = info.splits['train'].num_examples\n",
        "num_classes = info.features['label'].num_classes"
      ],
      "metadata": {
        "id": "zmpfLlD92XM7"
      },
      "execution_count": 9,
      "outputs": []
    },
    {
      "cell_type": "markdown",
      "source": [
        "Format the Data\n",
        "\n",
        "Use the tf.image module to format the images for the task.\n",
        "\n",
        "Resize the images to a fixes input size, and rescale the input channels\n",
        "\n",
        "\n"
      ],
      "metadata": {
        "id": "dZaGIxgw3SRn"
      }
    },
    {
      "cell_type": "code",
      "source": [
        "#function for formating\n",
        "\n",
        "def format_image(image, label):\n",
        "  image = tf.image.resize(image, IMAGE_SIZE) /255.0\n",
        "  return image, label"
      ],
      "metadata": {
        "id": "mcO_Snxn3NCM"
      },
      "execution_count": 16,
      "outputs": []
    },
    {
      "cell_type": "code",
      "source": [
        "#shuffle and batch the data\n",
        "\n",
        "BATCH_SIZE =32\n",
        "\n",
        "train_batches = train_examples.shuffle(num_examples // 4).map(format_image).batch(BATCH_SIZE).prefetch(1)\n",
        "validation_batches = validation_examples.map(format_image).batch(BATCH_SIZE).prefetch(1)\n",
        "test_batches = test_examples.map(format_image).batch(BATCH_SIZE)\n",
        "\n"
      ],
      "metadata": {
        "id": "pQxeIQsU3tN_"
      },
      "execution_count": 17,
      "outputs": []
    },
    {
      "cell_type": "code",
      "source": [
        "#inspect the batchs\n",
        "\n",
        "for image_batch, label_batch in train_batches.take(1):\n",
        "  pass\n",
        "\n",
        "image_batch.shape"
      ],
      "metadata": {
        "colab": {
          "base_uri": "https://localhost:8080/"
        },
        "id": "7nRT4iw333Q2",
        "outputId": "1ea86fcb-bd11-4599-a98a-b0d0748e2127"
      },
      "execution_count": 18,
      "outputs": [
        {
          "output_type": "execute_result",
          "data": {
            "text/plain": [
              "TensorShape([32, 224, 224, 3])"
            ]
          },
          "metadata": {},
          "execution_count": 18
        }
      ]
    },
    {
      "cell_type": "markdown",
      "source": [
        "Defining the model\n",
        "\n",
        "All it takes is to put a linear classifier on top of the feature_extractor_layer with the Hub module.\n",
        "\n",
        "For speed, we start out with a non-trainable feature_extractor_layer, but you can also enable fine-tuning for greater accuracy."
      ],
      "metadata": {
        "id": "pJpAxfrx5hb5"
      }
    },
    {
      "cell_type": "code",
      "source": [
        "do_fine_tuning = False"
      ],
      "metadata": {
        "id": "ge5rm11m5Qj-"
      },
      "execution_count": 19,
      "outputs": []
    },
    {
      "cell_type": "code",
      "source": [
        "feature_extractor = hub.KerasLayer(\n",
        "    MODULE_HANDLE,\n",
        "    input_shape = IMAGE_SIZE + (3,),\n",
        "    output_shape=[FV_SIZE],\n",
        "    trainable = do_fine_tuning\n",
        ")"
      ],
      "metadata": {
        "id": "0S2sBygO5kk8"
      },
      "execution_count": 21,
      "outputs": []
    },
    {
      "cell_type": "code",
      "source": [
        "#builde the model\n",
        "\n",
        "model = tf.keras.Sequential([\n",
        "    feature_extractor,\n",
        "    tf.keras.layers.Dense(num_classes)\n",
        "])\n",
        "\n",
        "model.summary()"
      ],
      "metadata": {
        "colab": {
          "base_uri": "https://localhost:8080/"
        },
        "id": "f5F7IzOu6ZJl",
        "outputId": "93eb4d33-53cc-46e8-af71-2023e536164d"
      },
      "execution_count": 22,
      "outputs": [
        {
          "output_type": "stream",
          "name": "stdout",
          "text": [
            "Model: \"sequential\"\n",
            "_________________________________________________________________\n",
            " Layer (type)                Output Shape              Param #   \n",
            "=================================================================\n",
            " keras_layer (KerasLayer)    (None, 1280)              2257984   \n",
            "                                                                 \n",
            " dense (Dense)               (None, 2)                 2562      \n",
            "                                                                 \n",
            "=================================================================\n",
            "Total params: 2260546 (8.62 MB)\n",
            "Trainable params: 2562 (10.01 KB)\n",
            "Non-trainable params: 2257984 (8.61 MB)\n",
            "_________________________________________________________________\n"
          ]
        }
      ]
    },
    {
      "cell_type": "markdown",
      "source": [
        "unfreezing some layers"
      ],
      "metadata": {
        "id": "duoRloUv7FpI"
      }
    },
    {
      "cell_type": "code",
      "source": [
        "num_layers = 7\n",
        "do_fine_tuning = False\n",
        "\n",
        "if do_fine_tuning == True:\n",
        "  feature_extractor.trainable = True\n",
        "\n",
        "  for layer in model.layers[:num_layers]:\n",
        "    layer.trainable = True\n",
        "\n",
        "else:\n",
        "  feature_extractor = False"
      ],
      "metadata": {
        "id": "fqEAugfp62xJ"
      },
      "execution_count": 30,
      "outputs": []
    },
    {
      "cell_type": "code",
      "source": [
        "if do_fine_tuning==True:\n",
        "  model.compile(\n",
        "    optimizer=tf.keras.optimizers.SGD(learning_rate=0.002, momentum=0.9),\n",
        "    loss = tf.keras.losses.SparseCategoricalCrossentropy(from_logits=True),\n",
        "    metrics=['accuracy'])\n",
        "  print(\"trainable layers \")\n",
        "else:\n",
        "  model.compile(\n",
        "    optimizer='adam',\n",
        "    loss = tf.keras.losses.SparseCategoricalCrossentropy(from_logits=True),\n",
        "    metrics=['accuracy'])\n",
        "  print(\"no trainable layers \")"
      ],
      "metadata": {
        "colab": {
          "base_uri": "https://localhost:8080/"
        },
        "id": "P3FBfw7w7ihQ",
        "outputId": "61729f05-2d80-488c-8c38-19c4f53b7d9c"
      },
      "execution_count": 31,
      "outputs": [
        {
          "output_type": "stream",
          "name": "stdout",
          "text": [
            "no trainable layers \n"
          ]
        }
      ]
    },
    {
      "cell_type": "code",
      "source": [
        "EPOCHS = 5\n",
        "hist = model.fit(train_batches,\n",
        "                    epochs=EPOCHS,\n",
        "                    validation_data=validation_batches)"
      ],
      "metadata": {
        "colab": {
          "base_uri": "https://localhost:8080/"
        },
        "id": "j22Pa8-m8WPN",
        "outputId": "f389030d-9941-42ac-8abb-f78b9e492638"
      },
      "execution_count": 32,
      "outputs": [
        {
          "output_type": "stream",
          "name": "stdout",
          "text": [
            "Epoch 1/5\n",
            "146/146 [==============================] - 686s 5s/step - loss: 0.2723 - accuracy: 0.9306 - val_loss: 0.5747 - val_accuracy: 0.9179\n",
            "Epoch 2/5\n",
            "146/146 [==============================] - 709s 5s/step - loss: 0.1884 - accuracy: 0.9589 - val_loss: 0.1894 - val_accuracy: 0.9635\n",
            "Epoch 3/5\n",
            "146/146 [==============================] - 680s 5s/step - loss: 0.1686 - accuracy: 0.9706 - val_loss: 0.1252 - val_accuracy: 0.9841\n",
            "Epoch 4/5\n",
            "146/146 [==============================] - 677s 5s/step - loss: 0.1529 - accuracy: 0.9759 - val_loss: 0.1250 - val_accuracy: 0.9862\n",
            "Epoch 5/5\n",
            "146/146 [==============================] - 681s 5s/step - loss: 0.1376 - accuracy: 0.9811 - val_loss: 0.1486 - val_accuracy: 0.9798\n"
          ]
        }
      ]
    },
    {
      "cell_type": "code",
      "source": [
        "#eport the model\n",
        "\n",
        "cats_vs_dogs_saved_model = \"exp_saved_model\""
      ],
      "metadata": {
        "id": "lDqI-iDU_RTA"
      },
      "execution_count": 33,
      "outputs": []
    },
    {
      "cell_type": "code",
      "source": [
        "#export the saved model\n",
        "tf.saved_model.save(model, cats_vs_dogs_saved_model)"
      ],
      "metadata": {
        "id": "DD6KCVOxBXBe"
      },
      "execution_count": 34,
      "outputs": []
    },
    {
      "cell_type": "markdown",
      "source": [
        "this command prints detailed information about the default serving signature of your \"Cats vs. Dogs\" TensorFlow SavedModel, including its expected inputs and outputs. This is a crucial step for debugging and understanding what a SavedModel expects when you try to use it for inference."
      ],
      "metadata": {
        "id": "vXGxnvvCB46v"
      }
    },
    {
      "cell_type": "code",
      "source": [
        "%%bash -s $cats_vs_dogs_saved_model\n",
        "saved_model_cli show --dir $1 --tag_set serve --signature_def serving_default"
      ],
      "metadata": {
        "colab": {
          "base_uri": "https://localhost:8080/"
        },
        "id": "OGWCVG2dBi5K",
        "outputId": "803507fc-a6cc-4bd6-9400-23492ce5a7fb"
      },
      "execution_count": 35,
      "outputs": [
        {
          "output_type": "stream",
          "name": "stdout",
          "text": [
            "The given SavedModel SignatureDef contains the following input(s):\n",
            "  inputs['keras_layer_input'] tensor_info:\n",
            "      dtype: DT_FLOAT\n",
            "      shape: (-1, 224, 224, 3)\n",
            "      name: serving_default_keras_layer_input:0\n",
            "The given SavedModel SignatureDef contains the following output(s):\n",
            "  outputs['dense'] tensor_info:\n",
            "      dtype: DT_FLOAT\n",
            "      shape: (-1, 2)\n",
            "      name: StatefulPartitionedCall:0\n",
            "Method name is: tensorflow/serving/predict\n"
          ]
        },
        {
          "output_type": "stream",
          "name": "stderr",
          "text": [
            "2025-06-15 10:46:18.109905: E external/local_xla/xla/stream_executor/cuda/cuda_dnn.cc:9261] Unable to register cuDNN factory: Attempting to register factory for plugin cuDNN when one has already been registered\n",
            "2025-06-15 10:46:18.109978: E external/local_xla/xla/stream_executor/cuda/cuda_fft.cc:607] Unable to register cuFFT factory: Attempting to register factory for plugin cuFFT when one has already been registered\n",
            "2025-06-15 10:46:18.112345: E external/local_xla/xla/stream_executor/cuda/cuda_blas.cc:1515] Unable to register cuBLAS factory: Attempting to register factory for plugin cuBLAS when one has already been registered\n",
            "2025-06-15 10:46:19.767076: W tensorflow/compiler/tf2tensorrt/utils/py_utils.cc:38] TF-TRT Warning: Could not find TensorRT\n",
            "2025-06-15 10:46:22.489601: W tensorflow/core/common_runtime/gpu/gpu_device.cc:2256] Cannot dlopen some GPU libraries. Please make sure the missing libraries mentioned above are installed properly if you would like to use GPU. Follow the guide at https://www.tensorflow.org/install/gpu for how to download and setup the required libraries for your platform.\n",
            "Skipping registering GPU devices...\n"
          ]
        }
      ]
    },
    {
      "cell_type": "code",
      "source": [
        "loaded = tf.saved_model.load(cats_vs_dogs_saved_model)"
      ],
      "metadata": {
        "id": "ZdLibKWBCKLe"
      },
      "execution_count": 36,
      "outputs": []
    },
    {
      "cell_type": "markdown",
      "source": [
        " this code snippet is used to programmatically inspect the input and output requirements and available functions of a TensorFlow SavedModel after it has been loaded into memory"
      ],
      "metadata": {
        "id": "6Hfi9rzBCdjo"
      }
    },
    {
      "cell_type": "code",
      "source": [
        "print(list(loaded.signatures.keys()))\n",
        "infer = loaded.signatures[\"serving_default\"]\n",
        "print(infer.structured_input_signature)\n",
        "print(infer.structured_outputs)"
      ],
      "metadata": {
        "colab": {
          "base_uri": "https://localhost:8080/"
        },
        "id": "bjay_S8wCQsd",
        "outputId": "6cacccbc-3495-4f18-b473-ad5cd5976697"
      },
      "execution_count": 37,
      "outputs": [
        {
          "output_type": "stream",
          "name": "stdout",
          "text": [
            "['serving_default']\n",
            "((), {'keras_layer_input': TensorSpec(shape=(None, 224, 224, 3), dtype=tf.float32, name='keras_layer_input')})\n",
            "{'dense': TensorSpec(shape=(None, 2), dtype=tf.float32, name='dense')}\n"
          ]
        }
      ]
    },
    {
      "cell_type": "code",
      "source": [],
      "metadata": {
        "id": "ef457x9VCxbY"
      },
      "execution_count": null,
      "outputs": []
    },
    {
      "cell_type": "markdown",
      "source": [
        "**Convert using TFLite's Converter**\n",
        "\n",
        "\n",
        "Load the TFLiteConverter with the SavedModel"
      ],
      "metadata": {
        "id": "HvjUCPUoC0cy"
      }
    },
    {
      "cell_type": "code",
      "source": [
        "converter = tf.lite.TFLiteConverter.from_saved_model(cats_vs_dogs_saved_model)"
      ],
      "metadata": {
        "id": "Pdas28evC42M"
      },
      "execution_count": 39,
      "outputs": []
    },
    {
      "cell_type": "code",
      "source": [
        "#post training quantization\n",
        "#Set Optimizations:\n",
        "\n",
        "converter.optimization = [tf.lite.Optimize.DEFAULT]"
      ],
      "metadata": {
        "id": "7XdJjL8zDCxc"
      },
      "execution_count": 40,
      "outputs": []
    },
    {
      "cell_type": "code",
      "source": [
        "#post training integer quantization\n",
        "#Provide Representative Dataset: If using full integer quantization\n",
        "\n",
        "def representative_data_gen():\n",
        "  for input_value, _ in test_batches.take(100):\n",
        "    yield [input_value]"
      ],
      "metadata": {
        "id": "BaKPuHUUDP5C"
      },
      "execution_count": 41,
      "outputs": []
    },
    {
      "cell_type": "code",
      "source": [
        "converter.representative_dataset = representative_data_gen"
      ],
      "metadata": {
        "id": "TBNNSz5hDvGd"
      },
      "execution_count": 42,
      "outputs": []
    },
    {
      "cell_type": "code",
      "source": [
        "#full integr quantization\n",
        "#Set Target Supported Types/Ops\n",
        "\n",
        "converter.target_spec.supported_ops = [tf.lite.OpsSet.TFLITE_BUILTINS_INT8]"
      ],
      "metadata": {
        "id": "tWBKetdtD9Bu"
      },
      "execution_count": 44,
      "outputs": []
    },
    {
      "cell_type": "markdown",
      "source": [
        "FINALLY CONVERT THE MODEL"
      ],
      "metadata": {
        "id": "JlvZ5nXkETNe"
      }
    },
    {
      "cell_type": "markdown",
      "source": [
        "Convert the Model by calling convert() on the converter"
      ],
      "metadata": {
        "id": "ZcOhTJJZFpVJ"
      }
    },
    {
      "cell_type": "code",
      "source": [
        "tflite_model = converter.convert()\n",
        "tflite_model_file = 'converted_model.tflite'\n",
        "\n",
        "with open(tflite_model_file, \"wb\") as f:\n",
        "  f.write(tflite_model)"
      ],
      "metadata": {
        "id": "rBe-ftTaEXYc"
      },
      "execution_count": 46,
      "outputs": []
    },
    {
      "cell_type": "markdown",
      "source": [
        "Test the TFLite model using the Python Interpreter"
      ],
      "metadata": {
        "id": "FPFXJ3kfHtOo"
      }
    },
    {
      "cell_type": "code",
      "source": [
        "# Load TFLite model and allocate tensors.\n",
        "\n",
        "interpreter = tf.lite.Interpreter(model_path=tflite_model_file)\n",
        "interpreter.allocate_tensors()\n",
        "\n",
        "input_index = interpreter.get_input_details()[0][\"index\"]\n",
        "output_index = interpreter.get_output_details()[0][\"index\"]"
      ],
      "metadata": {
        "id": "bUZvSgldHvvb"
      },
      "execution_count": 47,
      "outputs": []
    },
    {
      "cell_type": "code",
      "source": [
        "from tqdm import tqdm\n",
        "\n",
        "# Gather results for the randomly sampled test images\n",
        "predictions = []\n",
        "\n",
        "test_labels, test_imgs = [], []\n",
        "for img_batch, label_batch in tqdm(test_batches.take(10)):\n",
        "    # Iterate through each image and label in the batch\n",
        "    for i in range(img_batch.shape[0]):\n",
        "        img = tf.expand_dims(img_batch[i], axis=0) # Add batch dimension of 1\n",
        "        label = label_batch[i]\n",
        "\n",
        "        interpreter.set_tensor(input_index, img)\n",
        "        interpreter.invoke()\n",
        "        predictions.append(interpreter.get_tensor(output_index))\n",
        "\n",
        "        test_labels.append(label.numpy())\n",
        "        test_imgs.append(img_batch[i]) # Store the original image without the added batch dimension"
      ],
      "metadata": {
        "colab": {
          "base_uri": "https://localhost:8080/"
        },
        "id": "EJRkQCNCHyi2",
        "outputId": "efffccd4-f585-44db-a212-66f08712c1d9"
      },
      "execution_count": 49,
      "outputs": [
        {
          "output_type": "stream",
          "name": "stderr",
          "text": [
            "100%|██████████| 10/10 [00:04<00:00,  2.44it/s]\n"
          ]
        }
      ]
    },
    {
      "cell_type": "markdown",
      "source": [
        "Functions for plotting"
      ],
      "metadata": {
        "id": "1bvFBJN4H2F3"
      }
    },
    {
      "cell_type": "code",
      "source": [
        "#@title Utility functions for plotting\n",
        "# Utilities for plotting\n",
        "\n",
        "class_names = ['cat', 'dog']\n",
        "\n",
        "def plot_image(i, predictions_array, true_label, img):\n",
        "  predictions_array, true_label, img = predictions_array[i], true_label[i], img[i]\n",
        "  plt.grid(False)\n",
        "  plt.xticks([])\n",
        "  plt.yticks([])\n",
        "\n",
        "  img = np.squeeze(img)\n",
        "\n",
        "  plt.imshow(img, cmap=plt.cm.binary)\n",
        "\n",
        "  predicted_label = np.argmax(predictions_array)\n",
        "  if predicted_label == true_label:\n",
        "    color = 'green'\n",
        "  else:\n",
        "    color = 'red'\n",
        "\n",
        "  plt.xlabel(\"{} {:2.0f}% ({})\".format(class_names[predicted_label],\n",
        "                                100*np.max(predictions_array),\n",
        "                                class_names[true_label]),\n",
        "                                color=color)\n"
      ],
      "metadata": {
        "id": "cs1BTcFUH3xt"
      },
      "execution_count": 50,
      "outputs": []
    },
    {
      "cell_type": "code",
      "source": [
        "index = 0\n",
        "plt.figure(figsize=(6,3))\n",
        "plt.subplot(1,2,1)\n",
        "plot_image(index, predictions, test_labels, test_imgs)\n",
        "plt.show()"
      ],
      "metadata": {
        "colab": {
          "base_uri": "https://localhost:8080/",
          "height": 267
        },
        "id": "RrTrez_zH520",
        "outputId": "6fc700c7-8e7b-4b25-9a77-bcd2c5a38536"
      },
      "execution_count": 51,
      "outputs": [
        {
          "output_type": "display_data",
          "data": {
            "text/plain": [
              "<Figure size 600x300 with 1 Axes>"
            ],
            "image/png": "[encoded data removed]"
          },
          "metadata": {}
        }
      ]
    },
    {
      "cell_type": "markdown",
      "source": [
        "Download the model"
      ],
      "metadata": {
        "id": "7ucUOVg9INgv"
      }
    },
    {
      "cell_type": "code",
      "source": [
        "labels = ['cat', 'dog']\n",
        "\n",
        "with open('labels.txt', 'w') as f:\n",
        "  f.write('\\n'.join(labels))\n",
        "\n",
        "try:\n",
        "  from google.colab import files\n",
        "  files.download('converted_model.tflite')\n",
        "  files.download('labels.txt')\n",
        "except:\n",
        "  pass"
      ],
      "metadata": {
        "id": "KbgVE7y-INJS"
      },
      "execution_count": null,
      "outputs": []
    }
  ]
}